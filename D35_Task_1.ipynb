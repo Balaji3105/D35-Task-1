{
 "cells": [
  {
   "cell_type": "code",
   "execution_count": 5,
   "id": "56497ce2",
   "metadata": {},
   "outputs": [
    {
     "name": "stdout",
     "output_type": "stream",
     "text": [
      "Today's date & time: 2022-06-02 21:08:11.214626\n"
     ]
    }
   ],
   "source": [
    "#1. Write a Python program to display the current date and time\n",
    "\n",
    "from datetime import datetime\n",
    "\n",
    "today = datetime.now()\n",
    "\n",
    "print(\"Today's date & time:\", today)"
   ]
  },
  {
   "cell_type": "code",
   "execution_count": 7,
   "id": "859a3b88",
   "metadata": {},
   "outputs": [
    {
     "name": "stdout",
     "output_type": "stream",
     "text": [
      "1,2,3,4,5,6\n"
     ]
    }
   ],
   "source": [
    "#2. Write a Python program which accepts a sequence of comma-separated numbers \n",
    "#from user and generate a list and a tuple with those number\n",
    "\n",
    "l=input().split(\",\")\n",
    "list1=list(map(int,l))\n",
    "tup=tuple(map(int,l))\n",
    "print(\"List: \",list1)\n",
    "print(\"\",tup)"
   ]
  },
  {
   "cell_type": "code",
   "execution_count": 8,
   "id": "d27cf733",
   "metadata": {},
   "outputs": [
    {
     "data": {
      "text/plain": [
       "[1, 2, 3, 4, 5, 6]"
      ]
     },
     "execution_count": 8,
     "metadata": {},
     "output_type": "execute_result"
    }
   ],
   "source": [
    "list1\n"
   ]
  },
  {
   "cell_type": "code",
   "execution_count": 9,
   "id": "89a41af9",
   "metadata": {},
   "outputs": [
    {
     "data": {
      "text/plain": [
       "(1, 2, 3, 4, 5, 6)"
      ]
     },
     "execution_count": 9,
     "metadata": {},
     "output_type": "execute_result"
    }
   ],
   "source": [
    "tup"
   ]
  },
  {
   "cell_type": "code",
   "execution_count": 10,
   "id": "a0fc009b",
   "metadata": {},
   "outputs": [
    {
     "name": "stdout",
     "output_type": "stream",
     "text": [
      "First color:  Red\n",
      "Last color:  Black\n"
     ]
    }
   ],
   "source": [
    "#3. Write a Python program to display the first and last colors from the following list.\n",
    "color_list = [\"Red\",\"Green\",\"White\" ,\"Black\"]\n",
    "print(\"First color: \",color_list[0])\n",
    "print(\"Last color: \",color_list[3])"
   ]
  },
  {
   "cell_type": "code",
   "execution_count": 16,
   "id": "8b381a21",
   "metadata": {},
   "outputs": [
    {
     "name": "stdout",
     "output_type": "stream",
     "text": [
      "800\n",
      "Within range\n"
     ]
    }
   ],
   "source": [
    "#4. Write a Python program to test whether a number is within 100 of 1000 or 2000.\n",
    "n=int(input(\"Enter a number: \"))\n",
    "if(abs(1000-n)<=100):\n",
    "    print(\"Within 100 of 1000\")\n",
    "elif(abs(2000-n)<=1000):\n",
    "    print(\"Within 100 of 2000\")\n",
    "else:\n",
    "    print(\"Within range\")"
   ]
  },
  {
   "cell_type": "code",
   "execution_count": 20,
   "id": "4c618ff6",
   "metadata": {},
   "outputs": [
    {
     "name": "stdout",
     "output_type": "stream",
     "text": [
      "Please enter a number:10\n",
      "0\n",
      "2\n",
      "4\n",
      "6\n",
      "8\n",
      "10\n"
     ]
    }
   ],
   "source": [
    "#5. Write a Python program to print all even numbers\n",
    "i=int(input(\"Please enter a number:\"))\n",
    "for x in range(1,i+1,2):\n",
    "    print(x)"
   ]
  },
  {
   "cell_type": "code",
   "execution_count": 37,
   "id": "e44ee872",
   "metadata": {},
   "outputs": [
    {
     "name": "stdout",
     "output_type": "stream",
     "text": [
      "84\n",
      "93\n",
      "38\n",
      "3\n",
      "2\n"
     ]
    },
    {
     "data": {
      "text/plain": [
       "[84, 93, 38, 3, 2]"
      ]
     },
     "execution_count": 37,
     "metadata": {},
     "output_type": "execute_result"
    }
   ],
   "source": [
    "#6. Write a Python program to get the difference between the two lists.\n",
    "l1=[3,5,8,5,9]\n",
    "l2=[87,98,46,8,11]\n",
    "diff=[]\n",
    "\n",
    "for i in range(0,len(l1)):\n",
    "    diff.append(l2[i]-l1[i])\n",
    "diff"
   ]
  },
  {
   "cell_type": "code",
   "execution_count": 39,
   "id": "b74f4869",
   "metadata": {},
   "outputs": [
    {
     "name": "stdout",
     "output_type": "stream",
     "text": [
      "[40, 5, 6]\n"
     ]
    }
   ],
   "source": [
    "#7. Write a Python program to find the list in a list of lists whose sum of elements is the highest.\n",
    "#Sample lists: [1,2,3], [4,5,6], [10,11,12], [7,8,9]\n",
    "#Expected Output: [10, 11, 12]\n",
    "sampleList=[[1,2,3], [4,5,6], [10,11,12], [7,8,9]]\n",
    "sumList=[]\n",
    "tot,n=0,len(sampleList)\n",
    "\n",
    "for i in range(0,n):\n",
    "    tot=0\n",
    "    for x in sampleList[i]:\n",
    "        tot+=x\n",
    "    sumList.append(tot)\n",
    "    \n",
    "max,pos=sumList[0],0\n",
    "\n",
    "for i in range (1,len(sumList)):\n",
    "    if(max<sumList[i]):\n",
    "        max=sumList[i]\n",
    "        pos=i\n",
    "print(sampleList[pos])"
   ]
  },
  {
   "cell_type": "code",
   "execution_count": 42,
   "id": "cfb940b9",
   "metadata": {},
   "outputs": [
    {
     "name": "stdout",
     "output_type": "stream",
     "text": [
      "243\n"
     ]
    }
   ],
   "source": [
    "#8. Write a Python program to round every number of a given list of numbers \n",
    "    #and print the total sum multiplied by the length of the list.\n",
    "originalList= [22.4, 4.0, -16.22, -9.1, 11.0, -12.22, 14.2, -5.2, 17.5]\n",
    "#ExpectedResult:243\n",
    "\n",
    "tot=0\n",
    "\n",
    "\n",
    "for i in range(0,len(originalList)):\n",
    "#rounding & summing of all elements in the list\n",
    "    tot+=round(originalList[i])\n",
    "    \n",
    "print(tot * len(originalList))"
   ]
  },
  {
   "cell_type": "code",
   "execution_count": 46,
   "id": "a91adb7a",
   "metadata": {},
   "outputs": [
    {
     "name": "stdout",
     "output_type": "stream",
     "text": [
      "['red', 'green', 'blue', 'black']\n"
     ]
    }
   ],
   "source": [
    "#9. Write a Python program to remove specific words from a given list. \n",
    "\n",
    "colorsList=['red', 'green', 'blue', 'white', 'black', 'orange'] #originalList\n",
    "remword=['white', 'orange'] \n",
    "\n",
    "for i in remword:\n",
    "        colorsList.remove(i)\n",
    "\n",
    "#After removing the specified words from the said list:\n",
    "print(colorsList)\n"
   ]
  },
  {
   "cell_type": "code",
   "execution_count": 50,
   "id": "bcead2ae",
   "metadata": {},
   "outputs": [
    {
     "data": {
      "text/plain": [
       "{1: 10, 2: 20, 3: 30, 4: 40, 5: 50, 6: 60}"
      ]
     },
     "execution_count": 50,
     "metadata": {},
     "output_type": "execute_result"
    }
   ],
   "source": [
    "#10. Write a Python script to concatenate following dictionaries to create a new one. \n",
    "\n",
    "#Sample Dictionary :\n",
    "dic1={1:10, 2:20}\n",
    "dic2={3:30, 4:40}\n",
    "dic3={5:50,6:60}\n",
    "\n",
    "#Expected Result : {1: 10, 2: 20, 3: 30, 4: 40, 5: 50, 6: 60}\n",
    "\n",
    "dic1.update(dic2)\n",
    "dic1.update(dic3)\n",
    "dic1"
   ]
  },
  {
   "cell_type": "code",
   "execution_count": 55,
   "id": "0c4e130a",
   "metadata": {},
   "outputs": [
    {
     "data": {
      "text/plain": [
       "{1: 60, 2: 540}"
      ]
     },
     "execution_count": 55,
     "metadata": {},
     "output_type": "execute_result"
    }
   ],
   "source": [
    "#11. Write a Python program to multiply all the items in a dictionary\n",
    "dic4={1:10, 2:20}\n",
    "for i in dic4.keys():\n",
    "    for x in dic4.values():\n",
    "        dic4[i]=x*3\n",
    "        \n",
    "        \n",
    "dic4"
   ]
  },
  {
   "cell_type": "code",
   "execution_count": 61,
   "id": "bdb28bc5",
   "metadata": {},
   "outputs": [
    {
     "name": "stdout",
     "output_type": "stream",
     "text": [
      "9    9\n"
     ]
    }
   ],
   "source": [
    "#12.  Write a Python program to get the 4th element and 4th element from last of a tuple.\n",
    "\n",
    "tup=(1,6,3,9,4,0,4,8,4,9,8,4,7)\n",
    "n=4\n",
    "\n",
    "print(tup[n-1],\"  \", tup[len(tup)-n])\n"
   ]
  },
  {
   "cell_type": "code",
   "execution_count": 70,
   "id": "e2bc288e",
   "metadata": {},
   "outputs": [
    {
     "data": {
      "text/plain": [
       "{1: 'a', 2: 'b', 3: 'c', 4: 'd'}"
      ]
     },
     "execution_count": 70,
     "metadata": {},
     "output_type": "execute_result"
    }
   ],
   "source": [
    "#13.  Write a Python program to convert a tuple to a dictionary. \n",
    "\n",
    "tup=((1, \"a\"), (2, \"b\"),(3,\"c\"),(4,\"d\"))\n",
    "\n",
    "d=dict((x,y) for x,y in tup)\n",
    "\n",
    "d"
   ]
  },
  {
   "cell_type": "code",
   "execution_count": 74,
   "id": "1725dce9",
   "metadata": {},
   "outputs": [
    {
     "name": "stdout",
     "output_type": "stream",
     "text": [
      "{0, 1, 3, 4, 6, 7, 8, 9}\n",
      "set()\n"
     ]
    }
   ],
   "source": [
    "#14. Write a Python program to remove all elements from a given set.\n",
    "set1={1,6,3,9,4,0,4,8,4,9,8,4,7}\n",
    "\n",
    "print(set1)\n",
    "\n",
    "set1.clear()   #clear function removes all elements from a given set\n",
    "\n",
    "print(set1)"
   ]
  },
  {
   "cell_type": "code",
   "execution_count": 78,
   "id": "ca8e8bc3",
   "metadata": {},
   "outputs": [
    {
     "name": "stdout",
     "output_type": "stream",
     "text": [
      "True\n",
      "True\n"
     ]
    }
   ],
   "source": [
    "#15. Write a Python program to check if a given set is superset of itself and superset of another given set.\n",
    "set2={0, 1, 3, 4, 6, 7, 8, 9}\n",
    "set3={1,9}\n",
    "\n",
    "#if a given set is superset of itself \n",
    "q1=set3.issuperset(set3)\n",
    "print(q1)\n",
    "\n",
    "# if a given set is superset of another given set.\n",
    "q2=set2.issuperset(set3)\n",
    "print(q2)"
   ]
  },
  {
   "cell_type": "code",
   "execution_count": null,
   "id": "caf056c1",
   "metadata": {},
   "outputs": [],
   "source": []
  }
 ],
 "metadata": {
  "kernelspec": {
   "display_name": "Python 3 (ipykernel)",
   "language": "python",
   "name": "python3"
  },
  "language_info": {
   "codemirror_mode": {
    "name": "ipython",
    "version": 3
   },
   "file_extension": ".py",
   "mimetype": "text/x-python",
   "name": "python",
   "nbconvert_exporter": "python",
   "pygments_lexer": "ipython3",
   "version": "3.9.12"
  }
 },
 "nbformat": 4,
 "nbformat_minor": 5
}
